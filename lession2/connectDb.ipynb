{
 "cells": [
  {
   "cell_type": "code",
   "execution_count": 22,
   "metadata": {},
   "outputs": [
    {
     "name": "stdout",
     "output_type": "stream",
     "text": [
      "Total number of rows in table:  10\n",
      "\n",
      "Printing each row\n",
      "Age =  63\n",
      "Sex =  1\n",
      "ChesPaint  =  typical\n",
      "RestBP  =  145 \n",
      "\n",
      "Age =  67\n",
      "Sex =  1\n",
      "ChesPaint  =  asymptomatic\n",
      "RestBP  =  160 \n",
      "\n",
      "Age =  67\n",
      "Sex =  1\n",
      "ChesPaint  =  asymptomatic\n",
      "RestBP  =  120 \n",
      "\n",
      "Age =  37\n",
      "Sex =  1\n",
      "ChesPaint  =  nonanginal\n",
      "RestBP  =  130 \n",
      "\n",
      "Age =  41\n",
      "Sex =  0\n",
      "ChesPaint  =  nontypical\n",
      "RestBP  =  130 \n",
      "\n",
      "Age =  56\n",
      "Sex =  1\n",
      "ChesPaint  =  nontypical\n",
      "RestBP  =  120 \n",
      "\n",
      "Age =  62\n",
      "Sex =  0\n",
      "ChesPaint  =  asymptomatic\n",
      "RestBP  =  140 \n",
      "\n",
      "Age =  57\n",
      "Sex =  0\n",
      "ChesPaint  =  asymptomatic\n",
      "RestBP  =  120 \n",
      "\n",
      "Age =  63\n",
      "Sex =  1\n",
      "ChesPaint  =  asymptomatic\n",
      "RestBP  =  130 \n",
      "\n",
      "Age =  53\n",
      "Sex =  1\n",
      "ChesPaint  =  asymptomatic\n",
      "RestBP  =  140 \n",
      "\n",
      "MySQL connection is closed\n"
     ]
    }
   ],
   "source": [
    "import mysql.connector\n",
    "\n",
    "try:\n",
    "    connection = mysql.connector.connect(host='localhost',\n",
    "                                         database='Mci',\n",
    "                                         user='root',\n",
    "                                         password='')\n",
    "\n",
    "    sql_select_Query = \"SELECT * FROM Heart h Limit 10\"\n",
    "    cursor = connection.cursor()\n",
    "    cursor.execute(sql_select_Query)\n",
    "    # get all records\n",
    "    records = cursor.fetchall()\n",
    "    print(\"Total number of rows in table: \", cursor.rowcount)\n",
    "\n",
    "    print(\"\\nPrinting each row\")\n",
    "    for row in records:\n",
    "        print(\"Age = \", row[0], )\n",
    "        print(\"Sex = \", row[1])\n",
    "        print(\"ChesPaint  = \", row[2])\n",
    "        print(\"RestBP  = \", row[3], \"\\n\")\n",
    "\n",
    "except mysql.connector.Error as e:\n",
    "    print(\"Error reading data from MySQL table\", e)\n",
    "finally:\n",
    "    if connection.is_connected():\n",
    "        connection.close()\n",
    "        cursor.close()\n",
    "        print(\"MySQL connection is closed\")"
   ]
  }
 ],
 "metadata": {
  "kernelspec": {
   "display_name": "Python 3",
   "language": "python",
   "name": "python3"
  },
  "language_info": {
   "codemirror_mode": {
    "name": "ipython",
    "version": 3
   },
   "file_extension": ".py",
   "mimetype": "text/x-python",
   "name": "python",
   "nbconvert_exporter": "python",
   "pygments_lexer": "ipython3",
   "version": "3.8.10"
  },
  "orig_nbformat": 4,
  "vscode": {
   "interpreter": {
    "hash": "916dbcbb3f70747c44a77c7bcd40155683ae19c65e1c03b4aa3499c5328201f1"
   }
  }
 },
 "nbformat": 4,
 "nbformat_minor": 2
}
