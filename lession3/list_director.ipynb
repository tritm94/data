{
 "cells": [
  {
   "cell_type": "code",
   "execution_count": 1,
   "metadata": {},
   "outputs": [
    {
     "name": "stdout",
     "output_type": "stream",
     "text": [
      "abc xyz\n"
     ]
    },
    {
     "ename": "ModuleNotFoundError",
     "evalue": "No module named 'snakebite.client'; 'snakebite' is not a package",
     "output_type": "error",
     "traceback": [
      "\u001b[0;31m---------------------------------------------------------------------------\u001b[0m",
      "\u001b[0;31mModuleNotFoundError\u001b[0m                       Traceback (most recent call last)",
      "Cell \u001b[0;32mIn[1], line 1\u001b[0m\n\u001b[0;32m----> 1\u001b[0m \u001b[39mfrom\u001b[39;00m \u001b[39msnakebite\u001b[39;00m\u001b[39m.\u001b[39;00m\u001b[39mclient\u001b[39;00m \u001b[39mimport\u001b[39;00m Client\n\u001b[1;32m      2\u001b[0m client \u001b[39m=\u001b[39m Client(\u001b[39m'\u001b[39m\u001b[39mLAPTOP-HBKNP45N\u001b[39m\u001b[39m'\u001b[39m, \u001b[39m9000\u001b[39m)\n\u001b[1;32m      3\u001b[0m \u001b[39mfor\u001b[39;00m x \u001b[39min\u001b[39;00m client\u001b[39m.\u001b[39mls([\u001b[39m'\u001b[39m\u001b[39m/\u001b[39m\u001b[39m'\u001b[39m]):\n",
      "File \u001b[0;32m~/project/python/mci/mci-dw-dl/lession3/snakebite.py:2\u001b[0m\n\u001b[1;32m      1\u001b[0m \u001b[39mprint\u001b[39m(\u001b[39m'\u001b[39m\u001b[39mabc xyz\u001b[39m\u001b[39m'\u001b[39m)\n\u001b[0;32m----> 2\u001b[0m \u001b[39mfrom\u001b[39;00m \u001b[39msnakebite\u001b[39;00m\u001b[39m.\u001b[39;00m\u001b[39mclient\u001b[39;00m \u001b[39mimport\u001b[39;00m Client\n\u001b[1;32m      3\u001b[0m client \u001b[39m=\u001b[39m Client(\u001b[39m'\u001b[39m\u001b[39mLAPTOP-HBKNP45N\u001b[39m\u001b[39m'\u001b[39m,\u001b[39m9000\u001b[39m)\n\u001b[1;32m      4\u001b[0m \u001b[39mfor\u001b[39;00m x \u001b[39min\u001b[39;00m client\u001b[39m.\u001b[39mls([\u001b[39m'\u001b[39m\u001b[39m/\u001b[39m\u001b[39m'\u001b[39m]):\n",
      "\u001b[0;31mModuleNotFoundError\u001b[0m: No module named 'snakebite.client'; 'snakebite' is not a package"
     ]
    }
   ],
   "source": [
    "from snakebite.client import Client\n",
    "client = Client('LAPTOP-HBKNP45N', 9000)\n",
    "for x in client.ls(['/']):\n",
    "    print(\"x: \", x)"
   ]
  }
 ],
 "metadata": {
  "kernelspec": {
   "display_name": "Python 3",
   "language": "python",
   "name": "python3"
  },
  "language_info": {
   "codemirror_mode": {
    "name": "ipython",
    "version": 3
   },
   "file_extension": ".py",
   "mimetype": "text/x-python",
   "name": "python",
   "nbconvert_exporter": "python",
   "pygments_lexer": "ipython3",
   "version": "3.8.10"
  },
  "orig_nbformat": 4,
  "vscode": {
   "interpreter": {
    "hash": "916dbcbb3f70747c44a77c7bcd40155683ae19c65e1c03b4aa3499c5328201f1"
   }
  }
 },
 "nbformat": 4,
 "nbformat_minor": 2
}
